{
 "cells": [
  {
   "cell_type": "code",
   "execution_count": 23,
   "id": "badc9dda-5240-48cc-9042-2de3f424c4a3",
   "metadata": {},
   "outputs": [],
   "source": [
    "# Download dependencies here\n"
   ]
  },
  {
   "cell_type": "code",
   "execution_count": 24,
   "id": "9e77e191-88d2-4aee-bdd9-e4bacaa5f633",
   "metadata": {},
   "outputs": [],
   "source": [
    "# Importing the libraries \n",
    "import pandas as pd\n",
    "from sklearn.model_selection import train_test_split\n",
    "from sklearn.linear_model import LogisticRegression"
   ]
  },
  {
   "cell_type": "code",
   "execution_count": 25,
   "id": "f0ea6fcf-2011-447b-a9f4-7bc75568faa8",
   "metadata": {},
   "outputs": [],
   "source": [
    "# Importing dataset\n",
    "%store -r df"
   ]
  },
  {
   "cell_type": "code",
   "execution_count": 28,
   "id": "daa68ab9-7461-4b58-b901-753181732ce5",
   "metadata": {},
   "outputs": [],
   "source": [
    "X = df.drop(columns=['Exam_Score'])\n",
    "y = df['Exam_Score']\n",
    "X_train, X_test, y_train, y_test = train_test_split(X, y, test_size=0.2, random_state=42)"
   ]
  },
  {
   "cell_type": "code",
   "execution_count": null,
   "id": "63403b12-9360-48ba-9351-d5577ee58192",
   "metadata": {},
   "outputs": [],
   "source": [
    "model = LogisticRegression(multi_class='multinomial', solver='lbfgs')\n",
    "model.fit(X_train, y_train)\n"
   ]
  },
  {
   "cell_type": "code",
   "execution_count": null,
   "id": "91cdd1df-7b7e-476d-b2fa-7e64046f5f97",
   "metadata": {},
   "outputs": [],
   "source": []
  }
 ],
 "metadata": {
  "kernelspec": {
   "display_name": "Python 3 (ipykernel)",
   "language": "python",
   "name": "python3"
  },
  "language_info": {
   "codemirror_mode": {
    "name": "ipython",
    "version": 3
   },
   "file_extension": ".py",
   "mimetype": "text/x-python",
   "name": "python",
   "nbconvert_exporter": "python",
   "pygments_lexer": "ipython3",
   "version": "3.12.7"
  }
 },
 "nbformat": 4,
 "nbformat_minor": 5
}
